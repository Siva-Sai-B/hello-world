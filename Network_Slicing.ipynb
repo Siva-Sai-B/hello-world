{
  "nbformat": 4,
  "nbformat_minor": 0,
  "metadata": {
    "colab": {
      "provenance": [],
      "mount_file_id": "https://github.com/Siva-Sai-B/hello-world/blob/master/Network_Slicing.ipynb",
      "authorship_tag": "ABX9TyM4ZjQNN6w5SDTZnBsGXnNq",
      "include_colab_link": true
    },
    "kernelspec": {
      "name": "python3",
      "display_name": "Python 3"
    },
    "language_info": {
      "name": "python"
    }
  },
  "cells": [
    {
      "cell_type": "markdown",
      "metadata": {
        "id": "view-in-github",
        "colab_type": "text"
      },
      "source": [
        "<a href=\"https://colab.research.google.com/github/Siva-Sai-B/hello-world/blob/master/Network_Slicing.ipynb\" target=\"_parent\"><img src=\"https://colab.research.google.com/assets/colab-badge.svg\" alt=\"Open In Colab\"/></a>"
      ]
    },
    {
      "cell_type": "code",
      "execution_count": null,
      "metadata": {
        "colab": {
          "base_uri": "https://localhost:8080/"
        },
        "id": "0Etxvj6hYicp",
        "outputId": "9f7a13be-8416-4c80-fc26-8e1bd438b04e"
      },
      "outputs": [
        {
          "output_type": "stream",
          "name": "stdout",
          "text": [
            "Reading package lists... Done\n",
            "Building dependency tree       \n",
            "Reading state information... Done\n",
            "The following package was automatically installed and is no longer required:\n",
            "  libnvidia-common-460\n",
            "Use 'apt autoremove' to remove it.\n",
            "The following additional packages will be installed:\n",
            "  swig3.0\n",
            "Suggested packages:\n",
            "  swig-doc swig-examples swig3.0-examples swig3.0-doc\n",
            "The following NEW packages will be installed:\n",
            "  swig swig3.0\n",
            "0 upgraded, 2 newly installed, 0 to remove and 20 not upgraded.\n",
            "Need to get 1,100 kB of archives.\n",
            "After this operation, 5,822 kB of additional disk space will be used.\n",
            "Get:1 http://archive.ubuntu.com/ubuntu bionic/universe amd64 swig3.0 amd64 3.0.12-1 [1,094 kB]\n",
            "Get:2 http://archive.ubuntu.com/ubuntu bionic/universe amd64 swig amd64 3.0.12-1 [6,460 B]\n",
            "Fetched 1,100 kB in 1s (1,355 kB/s)\n",
            "Selecting previously unselected package swig3.0.\n",
            "(Reading database ... 155569 files and directories currently installed.)\n",
            "Preparing to unpack .../swig3.0_3.0.12-1_amd64.deb ...\n",
            "Unpacking swig3.0 (3.0.12-1) ...\n",
            "Selecting previously unselected package swig.\n",
            "Preparing to unpack .../swig_3.0.12-1_amd64.deb ...\n",
            "Unpacking swig (3.0.12-1) ...\n",
            "Setting up swig3.0 (3.0.12-1) ...\n",
            "Setting up swig (3.0.12-1) ...\n",
            "Processing triggers for man-db (2.8.3-2ubuntu0.1) ...\n",
            "Looking in indexes: https://pypi.org/simple, https://us-python.pkg.dev/colab-wheels/public/simple/\n",
            "Requirement already satisfied: Cython in /usr/local/lib/python3.7/dist-packages (0.29.32)\n",
            "Requirement already satisfied: numpy in /usr/local/lib/python3.7/dist-packages (1.21.6)\n"
          ]
        }
      ],
      "source": [
        "!apt-get install swig -y\n",
        "!pip install Cython numpy"
      ]
    },
    {
      "cell_type": "code",
      "source": [
        "!pip install auto-sklearn"
      ],
      "metadata": {
        "colab": {
          "base_uri": "https://localhost:8080/",
          "height": 1000
        },
        "id": "de2srBBYZMzI",
        "outputId": "8a3b0965-49ab-4738-c8c5-7331164bd345"
      },
      "execution_count": null,
      "outputs": [
        {
          "output_type": "stream",
          "name": "stdout",
          "text": [
            "Looking in indexes: https://pypi.org/simple, https://us-python.pkg.dev/colab-wheels/public/simple/\n",
            "Collecting auto-sklearn\n",
            "  Downloading auto-sklearn-0.14.7.tar.gz (6.4 MB)\n",
            "\u001b[K     |████████████████████████████████| 6.4 MB 31.5 MB/s \n",
            "\u001b[?25hRequirement already satisfied: setuptools in /usr/local/lib/python3.7/dist-packages (from auto-sklearn) (57.4.0)\n",
            "Requirement already satisfied: typing_extensions in /usr/local/lib/python3.7/dist-packages (from auto-sklearn) (4.1.1)\n",
            "Collecting distro\n",
            "  Downloading distro-1.7.0-py3-none-any.whl (20 kB)\n",
            "Requirement already satisfied: numpy>=1.9.0 in /usr/local/lib/python3.7/dist-packages (from auto-sklearn) (1.21.6)\n",
            "Requirement already satisfied: scipy>=1.7.0 in /usr/local/lib/python3.7/dist-packages (from auto-sklearn) (1.7.3)\n",
            "Requirement already satisfied: joblib in /usr/local/lib/python3.7/dist-packages (from auto-sklearn) (1.1.0)\n",
            "Collecting scikit-learn<0.25.0,>=0.24.0\n",
            "  Downloading scikit_learn-0.24.2-cp37-cp37m-manylinux2010_x86_64.whl (22.3 MB)\n",
            "\u001b[K     |████████████████████████████████| 22.3 MB 1.8 MB/s \n",
            "\u001b[?25hRequirement already satisfied: dask>=2021.12 in /usr/local/lib/python3.7/dist-packages (from auto-sklearn) (2022.2.0)\n",
            "Requirement already satisfied: distributed>=2012.12 in /usr/local/lib/python3.7/dist-packages (from auto-sklearn) (2022.2.0)\n",
            "Requirement already satisfied: pyyaml in /usr/local/lib/python3.7/dist-packages (from auto-sklearn) (6.0)\n",
            "Requirement already satisfied: pandas>=1.0 in /usr/local/lib/python3.7/dist-packages (from auto-sklearn) (1.3.5)\n",
            "Collecting liac-arff\n",
            "  Downloading liac-arff-2.5.0.tar.gz (13 kB)\n",
            "Requirement already satisfied: threadpoolctl in /usr/local/lib/python3.7/dist-packages (from auto-sklearn) (3.1.0)\n",
            "Collecting ConfigSpace<0.5,>=0.4.21\n",
            "  Downloading ConfigSpace-0.4.21-cp37-cp37m-manylinux_2_17_x86_64.manylinux2014_x86_64.whl (4.3 MB)\n",
            "\u001b[K     |████████████████████████████████| 4.3 MB 60.6 MB/s \n",
            "\u001b[?25hCollecting pynisher<0.7,>=0.6.3\n",
            "  Downloading pynisher-0.6.4.tar.gz (11 kB)\n",
            "Collecting pyrfr<0.9,>=0.8.1\n",
            "  Downloading pyrfr-0.8.3-cp37-cp37m-manylinux_2_17_x86_64.manylinux2014_x86_64.whl (4.4 MB)\n",
            "\u001b[K     |████████████████████████████████| 4.4 MB 69.3 MB/s \n",
            "\u001b[?25hCollecting smac<1.3,>=1.2\n",
            "  Downloading smac-1.2.tar.gz (260 kB)\n",
            "\u001b[K     |████████████████████████████████| 260 kB 75.4 MB/s \n",
            "\u001b[?25hRequirement already satisfied: cython in /usr/local/lib/python3.7/dist-packages (from ConfigSpace<0.5,>=0.4.21->auto-sklearn) (0.29.32)\n",
            "Requirement already satisfied: pyparsing in /usr/local/lib/python3.7/dist-packages (from ConfigSpace<0.5,>=0.4.21->auto-sklearn) (3.0.9)\n",
            "Requirement already satisfied: toolz>=0.8.2 in /usr/local/lib/python3.7/dist-packages (from dask>=2021.12->auto-sklearn) (0.12.0)\n",
            "Requirement already satisfied: partd>=0.3.10 in /usr/local/lib/python3.7/dist-packages (from dask>=2021.12->auto-sklearn) (1.3.0)\n",
            "Requirement already satisfied: fsspec>=0.6.0 in /usr/local/lib/python3.7/dist-packages (from dask>=2021.12->auto-sklearn) (2022.8.2)\n",
            "Requirement already satisfied: packaging>=20.0 in /usr/local/lib/python3.7/dist-packages (from dask>=2021.12->auto-sklearn) (21.3)\n",
            "Requirement already satisfied: cloudpickle>=1.1.1 in /usr/local/lib/python3.7/dist-packages (from dask>=2021.12->auto-sklearn) (1.5.0)\n",
            "Requirement already satisfied: jinja2 in /usr/local/lib/python3.7/dist-packages (from distributed>=2012.12->auto-sklearn) (2.11.3)\n",
            "Requirement already satisfied: sortedcontainers!=2.0.0,!=2.0.1 in /usr/local/lib/python3.7/dist-packages (from distributed>=2012.12->auto-sklearn) (2.4.0)\n",
            "Requirement already satisfied: msgpack>=0.6.0 in /usr/local/lib/python3.7/dist-packages (from distributed>=2012.12->auto-sklearn) (1.0.4)\n",
            "Requirement already satisfied: tornado>=5 in /usr/local/lib/python3.7/dist-packages (from distributed>=2012.12->auto-sklearn) (5.1.1)\n",
            "Requirement already satisfied: zict>=0.1.3 in /usr/local/lib/python3.7/dist-packages (from distributed>=2012.12->auto-sklearn) (2.2.0)\n",
            "Requirement already satisfied: click>=6.6 in /usr/local/lib/python3.7/dist-packages (from distributed>=2012.12->auto-sklearn) (7.1.2)\n",
            "Requirement already satisfied: tblib>=1.6.0 in /usr/local/lib/python3.7/dist-packages (from distributed>=2012.12->auto-sklearn) (1.7.0)\n",
            "Requirement already satisfied: psutil>=5.0 in /usr/local/lib/python3.7/dist-packages (from distributed>=2012.12->auto-sklearn) (5.4.8)\n",
            "Requirement already satisfied: python-dateutil>=2.7.3 in /usr/local/lib/python3.7/dist-packages (from pandas>=1.0->auto-sklearn) (2.8.2)\n",
            "Requirement already satisfied: pytz>=2017.3 in /usr/local/lib/python3.7/dist-packages (from pandas>=1.0->auto-sklearn) (2022.2.1)\n",
            "Requirement already satisfied: locket in /usr/local/lib/python3.7/dist-packages (from partd>=0.3.10->dask>=2021.12->auto-sklearn) (1.0.0)\n",
            "Requirement already satisfied: six>=1.5 in /usr/local/lib/python3.7/dist-packages (from python-dateutil>=2.7.3->pandas>=1.0->auto-sklearn) (1.15.0)\n",
            "Collecting emcee>=3.0.0\n",
            "  Downloading emcee-3.1.2-py2.py3-none-any.whl (46 kB)\n",
            "\u001b[K     |████████████████████████████████| 46 kB 2.4 MB/s \n",
            "\u001b[?25hRequirement already satisfied: heapdict in /usr/local/lib/python3.7/dist-packages (from zict>=0.1.3->distributed>=2012.12->auto-sklearn) (1.0.1)\n",
            "Requirement already satisfied: MarkupSafe>=0.23 in /usr/local/lib/python3.7/dist-packages (from jinja2->distributed>=2012.12->auto-sklearn) (2.0.1)\n",
            "Building wheels for collected packages: auto-sklearn, pynisher, smac, liac-arff\n",
            "  Building wheel for auto-sklearn (setup.py) ... \u001b[?25l\u001b[?25hdone\n",
            "  Created wheel for auto-sklearn: filename=auto_sklearn-0.14.7-py3-none-any.whl size=6602873 sha256=53c466655e696b7e5b5f2ee02a2902ca46fc36f879a203ce3b7da327a96c7bf6\n",
            "  Stored in directory: /root/.cache/pip/wheels/ba/43/5c/2fbe6fd19e3af314cbc4aa808378068d8ddd6792064f4a2448\n",
            "  Building wheel for pynisher (setup.py) ... \u001b[?25l\u001b[?25hdone\n",
            "  Created wheel for pynisher: filename=pynisher-0.6.4-py3-none-any.whl size=7043 sha256=f644e573b57f531565d4fb8d1c4d121aa220c2844e620fd162c768c1b422e0af\n",
            "  Stored in directory: /root/.cache/pip/wheels/42/71/95/7555ec3253e1ba8add72ae5febf1b015d297f3b73ba296d6f6\n",
            "  Building wheel for smac (setup.py) ... \u001b[?25l\u001b[?25hdone\n",
            "  Created wheel for smac: filename=smac-1.2-py3-none-any.whl size=215933 sha256=69ab8d23955037810ffb4b5ddd0a6483431d1fe60b2190e87c151ccce0a336a9\n",
            "  Stored in directory: /root/.cache/pip/wheels/ad/95/67/6afc6b04d3715070c853d0a9d7c7b1fb822def38671dfbbb9f\n",
            "  Building wheel for liac-arff (setup.py) ... \u001b[?25l\u001b[?25hdone\n",
            "  Created wheel for liac-arff: filename=liac_arff-2.5.0-py3-none-any.whl size=11732 sha256=348ca05130ad09877aa98dd039b50af2cd7fc1c72549d081f6ff75962f279549\n",
            "  Stored in directory: /root/.cache/pip/wheels/1f/0f/15/332ca86cbebf25ddf98518caaf887945fbe1712b97a0f2493b\n",
            "Successfully built auto-sklearn pynisher smac liac-arff\n",
            "Installing collected packages: scikit-learn, pyrfr, pynisher, emcee, ConfigSpace, smac, liac-arff, distro, auto-sklearn\n",
            "  Attempting uninstall: scikit-learn\n",
            "    Found existing installation: scikit-learn 1.0.2\n",
            "    Uninstalling scikit-learn-1.0.2:\n",
            "      Successfully uninstalled scikit-learn-1.0.2\n",
            "\u001b[31mERROR: pip's dependency resolver does not currently take into account all the packages that are installed. This behaviour is the source of the following dependency conflicts.\n",
            "yellowbrick 1.5 requires scikit-learn>=1.0.0, but you have scikit-learn 0.24.2 which is incompatible.\u001b[0m\n",
            "Successfully installed ConfigSpace-0.4.21 auto-sklearn-0.14.7 distro-1.7.0 emcee-3.1.2 liac-arff-2.5.0 pynisher-0.6.4 pyrfr-0.8.3 scikit-learn-0.24.2 smac-1.2\n"
          ]
        },
        {
          "output_type": "display_data",
          "data": {
            "application/vnd.colab-display-data+json": {
              "pip_warning": {
                "packages": [
                  "sklearn"
                ]
              }
            }
          },
          "metadata": {}
        }
      ]
    },
    {
      "cell_type": "code",
      "source": [
        "import sklearn\n",
        "import autosklearn.classification as classifier\n",
        "from sklearn.model_selection import train_test_split"
      ],
      "metadata": {
        "id": "ajjbc12icMWc"
      },
      "execution_count": null,
      "outputs": []
    },
    {
      "cell_type": "code",
      "source": [
        "from google.colab import drive\n",
        "drive.mount(\"/content/gdrive\")"
      ],
      "metadata": {
        "colab": {
          "base_uri": "https://localhost:8080/"
        },
        "id": "eux2JPfkZbdr",
        "outputId": "8cff8771-5ce3-4378-aaff-96c960a51218"
      },
      "execution_count": null,
      "outputs": [
        {
          "output_type": "stream",
          "name": "stdout",
          "text": [
            "Drive already mounted at /content/gdrive; to attempt to forcibly remount, call drive.mount(\"/content/gdrive\", force_remount=True).\n"
          ]
        }
      ]
    },
    {
      "cell_type": "code",
      "source": [
        "import pandas as pd\n",
        "train=pd.read_csv('/content/drive/MyDrive/train_dataset.csv')"
      ],
      "metadata": {
        "id": "8kPyuqwPcuOi"
      },
      "execution_count": 2,
      "outputs": []
    },
    {
      "cell_type": "code",
      "source": [
        "train.head()\n"
      ],
      "metadata": {
        "colab": {
          "base_uri": "https://localhost:8080/",
          "height": 322
        },
        "id": "hWJ2E2vCdT4O",
        "outputId": "8943a929-bf62-483c-f5a9-595d0faee568"
      },
      "execution_count": 3,
      "outputs": [
        {
          "output_type": "execute_result",
          "data": {
            "text/plain": [
              "   LTE/5g Category  Time  Packet Loss Rate  Packet delay  IoT  LTE/5G  GBR  \\\n",
              "0               14     0          0.000001            10    1       0    0   \n",
              "1               18    20          0.001000           100    0       1    1   \n",
              "2               17    14          0.000001           300    0       1    0   \n",
              "3                3    17          0.010000           100    0       1    0   \n",
              "4                9     4          0.010000            50    1       0    0   \n",
              "\n",
              "   Non-GBR  AR/VR/Gaming  Healthcare  Industry 4.0  IoT Devices  \\\n",
              "0        1             0           0             0            0   \n",
              "1        0             1           0             0            0   \n",
              "2        1             0           0             0            0   \n",
              "3        1             0           0             0            0   \n",
              "4        1             0           0             0            0   \n",
              "\n",
              "   Public Safety  Smart City & Home  Smart Transportation  Smartphone  \\\n",
              "0              1                  0                     0           0   \n",
              "1              0                  0                     0           0   \n",
              "2              0                  0                     0           1   \n",
              "3              0                  0                     0           1   \n",
              "4              0                  1                     0           0   \n",
              "\n",
              "   slice Type  \n",
              "0           3  \n",
              "1           1  \n",
              "2           1  \n",
              "3           1  \n",
              "4           2  "
            ],
            "text/html": [
              "\n",
              "  <div id=\"df-aaa42b91-f5e3-4b61-82d8-56df56ed997b\">\n",
              "    <div class=\"colab-df-container\">\n",
              "      <div>\n",
              "<style scoped>\n",
              "    .dataframe tbody tr th:only-of-type {\n",
              "        vertical-align: middle;\n",
              "    }\n",
              "\n",
              "    .dataframe tbody tr th {\n",
              "        vertical-align: top;\n",
              "    }\n",
              "\n",
              "    .dataframe thead th {\n",
              "        text-align: right;\n",
              "    }\n",
              "</style>\n",
              "<table border=\"1\" class=\"dataframe\">\n",
              "  <thead>\n",
              "    <tr style=\"text-align: right;\">\n",
              "      <th></th>\n",
              "      <th>LTE/5g Category</th>\n",
              "      <th>Time</th>\n",
              "      <th>Packet Loss Rate</th>\n",
              "      <th>Packet delay</th>\n",
              "      <th>IoT</th>\n",
              "      <th>LTE/5G</th>\n",
              "      <th>GBR</th>\n",
              "      <th>Non-GBR</th>\n",
              "      <th>AR/VR/Gaming</th>\n",
              "      <th>Healthcare</th>\n",
              "      <th>Industry 4.0</th>\n",
              "      <th>IoT Devices</th>\n",
              "      <th>Public Safety</th>\n",
              "      <th>Smart City &amp; Home</th>\n",
              "      <th>Smart Transportation</th>\n",
              "      <th>Smartphone</th>\n",
              "      <th>slice Type</th>\n",
              "    </tr>\n",
              "  </thead>\n",
              "  <tbody>\n",
              "    <tr>\n",
              "      <th>0</th>\n",
              "      <td>14</td>\n",
              "      <td>0</td>\n",
              "      <td>0.000001</td>\n",
              "      <td>10</td>\n",
              "      <td>1</td>\n",
              "      <td>0</td>\n",
              "      <td>0</td>\n",
              "      <td>1</td>\n",
              "      <td>0</td>\n",
              "      <td>0</td>\n",
              "      <td>0</td>\n",
              "      <td>0</td>\n",
              "      <td>1</td>\n",
              "      <td>0</td>\n",
              "      <td>0</td>\n",
              "      <td>0</td>\n",
              "      <td>3</td>\n",
              "    </tr>\n",
              "    <tr>\n",
              "      <th>1</th>\n",
              "      <td>18</td>\n",
              "      <td>20</td>\n",
              "      <td>0.001000</td>\n",
              "      <td>100</td>\n",
              "      <td>0</td>\n",
              "      <td>1</td>\n",
              "      <td>1</td>\n",
              "      <td>0</td>\n",
              "      <td>1</td>\n",
              "      <td>0</td>\n",
              "      <td>0</td>\n",
              "      <td>0</td>\n",
              "      <td>0</td>\n",
              "      <td>0</td>\n",
              "      <td>0</td>\n",
              "      <td>0</td>\n",
              "      <td>1</td>\n",
              "    </tr>\n",
              "    <tr>\n",
              "      <th>2</th>\n",
              "      <td>17</td>\n",
              "      <td>14</td>\n",
              "      <td>0.000001</td>\n",
              "      <td>300</td>\n",
              "      <td>0</td>\n",
              "      <td>1</td>\n",
              "      <td>0</td>\n",
              "      <td>1</td>\n",
              "      <td>0</td>\n",
              "      <td>0</td>\n",
              "      <td>0</td>\n",
              "      <td>0</td>\n",
              "      <td>0</td>\n",
              "      <td>0</td>\n",
              "      <td>0</td>\n",
              "      <td>1</td>\n",
              "      <td>1</td>\n",
              "    </tr>\n",
              "    <tr>\n",
              "      <th>3</th>\n",
              "      <td>3</td>\n",
              "      <td>17</td>\n",
              "      <td>0.010000</td>\n",
              "      <td>100</td>\n",
              "      <td>0</td>\n",
              "      <td>1</td>\n",
              "      <td>0</td>\n",
              "      <td>1</td>\n",
              "      <td>0</td>\n",
              "      <td>0</td>\n",
              "      <td>0</td>\n",
              "      <td>0</td>\n",
              "      <td>0</td>\n",
              "      <td>0</td>\n",
              "      <td>0</td>\n",
              "      <td>1</td>\n",
              "      <td>1</td>\n",
              "    </tr>\n",
              "    <tr>\n",
              "      <th>4</th>\n",
              "      <td>9</td>\n",
              "      <td>4</td>\n",
              "      <td>0.010000</td>\n",
              "      <td>50</td>\n",
              "      <td>1</td>\n",
              "      <td>0</td>\n",
              "      <td>0</td>\n",
              "      <td>1</td>\n",
              "      <td>0</td>\n",
              "      <td>0</td>\n",
              "      <td>0</td>\n",
              "      <td>0</td>\n",
              "      <td>0</td>\n",
              "      <td>1</td>\n",
              "      <td>0</td>\n",
              "      <td>0</td>\n",
              "      <td>2</td>\n",
              "    </tr>\n",
              "  </tbody>\n",
              "</table>\n",
              "</div>\n",
              "      <button class=\"colab-df-convert\" onclick=\"convertToInteractive('df-aaa42b91-f5e3-4b61-82d8-56df56ed997b')\"\n",
              "              title=\"Convert this dataframe to an interactive table.\"\n",
              "              style=\"display:none;\">\n",
              "        \n",
              "  <svg xmlns=\"http://www.w3.org/2000/svg\" height=\"24px\"viewBox=\"0 0 24 24\"\n",
              "       width=\"24px\">\n",
              "    <path d=\"M0 0h24v24H0V0z\" fill=\"none\"/>\n",
              "    <path d=\"M18.56 5.44l.94 2.06.94-2.06 2.06-.94-2.06-.94-.94-2.06-.94 2.06-2.06.94zm-11 1L8.5 8.5l.94-2.06 2.06-.94-2.06-.94L8.5 2.5l-.94 2.06-2.06.94zm10 10l.94 2.06.94-2.06 2.06-.94-2.06-.94-.94-2.06-.94 2.06-2.06.94z\"/><path d=\"M17.41 7.96l-1.37-1.37c-.4-.4-.92-.59-1.43-.59-.52 0-1.04.2-1.43.59L10.3 9.45l-7.72 7.72c-.78.78-.78 2.05 0 2.83L4 21.41c.39.39.9.59 1.41.59.51 0 1.02-.2 1.41-.59l7.78-7.78 2.81-2.81c.8-.78.8-2.07 0-2.86zM5.41 20L4 18.59l7.72-7.72 1.47 1.35L5.41 20z\"/>\n",
              "  </svg>\n",
              "      </button>\n",
              "      \n",
              "  <style>\n",
              "    .colab-df-container {\n",
              "      display:flex;\n",
              "      flex-wrap:wrap;\n",
              "      gap: 12px;\n",
              "    }\n",
              "\n",
              "    .colab-df-convert {\n",
              "      background-color: #E8F0FE;\n",
              "      border: none;\n",
              "      border-radius: 50%;\n",
              "      cursor: pointer;\n",
              "      display: none;\n",
              "      fill: #1967D2;\n",
              "      height: 32px;\n",
              "      padding: 0 0 0 0;\n",
              "      width: 32px;\n",
              "    }\n",
              "\n",
              "    .colab-df-convert:hover {\n",
              "      background-color: #E2EBFA;\n",
              "      box-shadow: 0px 1px 2px rgba(60, 64, 67, 0.3), 0px 1px 3px 1px rgba(60, 64, 67, 0.15);\n",
              "      fill: #174EA6;\n",
              "    }\n",
              "\n",
              "    [theme=dark] .colab-df-convert {\n",
              "      background-color: #3B4455;\n",
              "      fill: #D2E3FC;\n",
              "    }\n",
              "\n",
              "    [theme=dark] .colab-df-convert:hover {\n",
              "      background-color: #434B5C;\n",
              "      box-shadow: 0px 1px 3px 1px rgba(0, 0, 0, 0.15);\n",
              "      filter: drop-shadow(0px 1px 2px rgba(0, 0, 0, 0.3));\n",
              "      fill: #FFFFFF;\n",
              "    }\n",
              "  </style>\n",
              "\n",
              "      <script>\n",
              "        const buttonEl =\n",
              "          document.querySelector('#df-aaa42b91-f5e3-4b61-82d8-56df56ed997b button.colab-df-convert');\n",
              "        buttonEl.style.display =\n",
              "          google.colab.kernel.accessAllowed ? 'block' : 'none';\n",
              "\n",
              "        async function convertToInteractive(key) {\n",
              "          const element = document.querySelector('#df-aaa42b91-f5e3-4b61-82d8-56df56ed997b');\n",
              "          const dataTable =\n",
              "            await google.colab.kernel.invokeFunction('convertToInteractive',\n",
              "                                                     [key], {});\n",
              "          if (!dataTable) return;\n",
              "\n",
              "          const docLinkHtml = 'Like what you see? Visit the ' +\n",
              "            '<a target=\"_blank\" href=https://colab.research.google.com/notebooks/data_table.ipynb>data table notebook</a>'\n",
              "            + ' to learn more about interactive tables.';\n",
              "          element.innerHTML = '';\n",
              "          dataTable['output_type'] = 'display_data';\n",
              "          await google.colab.output.renderOutput(dataTable, element);\n",
              "          const docLink = document.createElement('div');\n",
              "          docLink.innerHTML = docLinkHtml;\n",
              "          element.appendChild(docLink);\n",
              "        }\n",
              "      </script>\n",
              "    </div>\n",
              "  </div>\n",
              "  "
            ]
          },
          "metadata": {},
          "execution_count": 3
        }
      ]
    },
    {
      "cell_type": "code",
      "source": [
        "test=pd.read_csv('/content/drive/MyDrive/test_dataset.csv')\n",
        "test.head()"
      ],
      "metadata": {
        "colab": {
          "base_uri": "https://localhost:8080/",
          "height": 322
        },
        "id": "N-c94wfxddHc",
        "outputId": "6e4e979b-5731-419e-877e-defc0a9a46b6"
      },
      "execution_count": 4,
      "outputs": [
        {
          "output_type": "execute_result",
          "data": {
            "text/plain": [
              "   LTE/5g Category  Time  Packet Loss Rate  Packet delay  IoT  LTE/5G  GBR  \\\n",
              "0               15    17          0.001000           100    0       1    1   \n",
              "1               14    18          0.000001            10    1       0    0   \n",
              "2               11     7          0.001000            50    1       0    1   \n",
              "3               20    14          0.001000            50    1       0    1   \n",
              "4                2    22          0.001000            50    0       1    0   \n",
              "\n",
              "   Non-GBR  AR/VR/Gaming  Healthcare  Industry 4.0  IoT Devices  \\\n",
              "0        0             1           0             0            0   \n",
              "1        1             0           0             0            0   \n",
              "2        0             0           0             1            0   \n",
              "3        0             0           0             1            0   \n",
              "4        1             1           0             0            0   \n",
              "\n",
              "   Public Safety  Smart City & Home  Smart Transportation  Smartphone  \n",
              "0              0                  0                     0           0  \n",
              "1              0                  0                     1           0  \n",
              "2              0                  0                     0           0  \n",
              "3              0                  0                     0           0  \n",
              "4              0                  0                     0           0  "
            ],
            "text/html": [
              "\n",
              "  <div id=\"df-2a5bcfb8-78f0-416d-a168-3c02a2dce77b\">\n",
              "    <div class=\"colab-df-container\">\n",
              "      <div>\n",
              "<style scoped>\n",
              "    .dataframe tbody tr th:only-of-type {\n",
              "        vertical-align: middle;\n",
              "    }\n",
              "\n",
              "    .dataframe tbody tr th {\n",
              "        vertical-align: top;\n",
              "    }\n",
              "\n",
              "    .dataframe thead th {\n",
              "        text-align: right;\n",
              "    }\n",
              "</style>\n",
              "<table border=\"1\" class=\"dataframe\">\n",
              "  <thead>\n",
              "    <tr style=\"text-align: right;\">\n",
              "      <th></th>\n",
              "      <th>LTE/5g Category</th>\n",
              "      <th>Time</th>\n",
              "      <th>Packet Loss Rate</th>\n",
              "      <th>Packet delay</th>\n",
              "      <th>IoT</th>\n",
              "      <th>LTE/5G</th>\n",
              "      <th>GBR</th>\n",
              "      <th>Non-GBR</th>\n",
              "      <th>AR/VR/Gaming</th>\n",
              "      <th>Healthcare</th>\n",
              "      <th>Industry 4.0</th>\n",
              "      <th>IoT Devices</th>\n",
              "      <th>Public Safety</th>\n",
              "      <th>Smart City &amp; Home</th>\n",
              "      <th>Smart Transportation</th>\n",
              "      <th>Smartphone</th>\n",
              "    </tr>\n",
              "  </thead>\n",
              "  <tbody>\n",
              "    <tr>\n",
              "      <th>0</th>\n",
              "      <td>15</td>\n",
              "      <td>17</td>\n",
              "      <td>0.001000</td>\n",
              "      <td>100</td>\n",
              "      <td>0</td>\n",
              "      <td>1</td>\n",
              "      <td>1</td>\n",
              "      <td>0</td>\n",
              "      <td>1</td>\n",
              "      <td>0</td>\n",
              "      <td>0</td>\n",
              "      <td>0</td>\n",
              "      <td>0</td>\n",
              "      <td>0</td>\n",
              "      <td>0</td>\n",
              "      <td>0</td>\n",
              "    </tr>\n",
              "    <tr>\n",
              "      <th>1</th>\n",
              "      <td>14</td>\n",
              "      <td>18</td>\n",
              "      <td>0.000001</td>\n",
              "      <td>10</td>\n",
              "      <td>1</td>\n",
              "      <td>0</td>\n",
              "      <td>0</td>\n",
              "      <td>1</td>\n",
              "      <td>0</td>\n",
              "      <td>0</td>\n",
              "      <td>0</td>\n",
              "      <td>0</td>\n",
              "      <td>0</td>\n",
              "      <td>0</td>\n",
              "      <td>1</td>\n",
              "      <td>0</td>\n",
              "    </tr>\n",
              "    <tr>\n",
              "      <th>2</th>\n",
              "      <td>11</td>\n",
              "      <td>7</td>\n",
              "      <td>0.001000</td>\n",
              "      <td>50</td>\n",
              "      <td>1</td>\n",
              "      <td>0</td>\n",
              "      <td>1</td>\n",
              "      <td>0</td>\n",
              "      <td>0</td>\n",
              "      <td>0</td>\n",
              "      <td>1</td>\n",
              "      <td>0</td>\n",
              "      <td>0</td>\n",
              "      <td>0</td>\n",
              "      <td>0</td>\n",
              "      <td>0</td>\n",
              "    </tr>\n",
              "    <tr>\n",
              "      <th>3</th>\n",
              "      <td>20</td>\n",
              "      <td>14</td>\n",
              "      <td>0.001000</td>\n",
              "      <td>50</td>\n",
              "      <td>1</td>\n",
              "      <td>0</td>\n",
              "      <td>1</td>\n",
              "      <td>0</td>\n",
              "      <td>0</td>\n",
              "      <td>0</td>\n",
              "      <td>1</td>\n",
              "      <td>0</td>\n",
              "      <td>0</td>\n",
              "      <td>0</td>\n",
              "      <td>0</td>\n",
              "      <td>0</td>\n",
              "    </tr>\n",
              "    <tr>\n",
              "      <th>4</th>\n",
              "      <td>2</td>\n",
              "      <td>22</td>\n",
              "      <td>0.001000</td>\n",
              "      <td>50</td>\n",
              "      <td>0</td>\n",
              "      <td>1</td>\n",
              "      <td>0</td>\n",
              "      <td>1</td>\n",
              "      <td>1</td>\n",
              "      <td>0</td>\n",
              "      <td>0</td>\n",
              "      <td>0</td>\n",
              "      <td>0</td>\n",
              "      <td>0</td>\n",
              "      <td>0</td>\n",
              "      <td>0</td>\n",
              "    </tr>\n",
              "  </tbody>\n",
              "</table>\n",
              "</div>\n",
              "      <button class=\"colab-df-convert\" onclick=\"convertToInteractive('df-2a5bcfb8-78f0-416d-a168-3c02a2dce77b')\"\n",
              "              title=\"Convert this dataframe to an interactive table.\"\n",
              "              style=\"display:none;\">\n",
              "        \n",
              "  <svg xmlns=\"http://www.w3.org/2000/svg\" height=\"24px\"viewBox=\"0 0 24 24\"\n",
              "       width=\"24px\">\n",
              "    <path d=\"M0 0h24v24H0V0z\" fill=\"none\"/>\n",
              "    <path d=\"M18.56 5.44l.94 2.06.94-2.06 2.06-.94-2.06-.94-.94-2.06-.94 2.06-2.06.94zm-11 1L8.5 8.5l.94-2.06 2.06-.94-2.06-.94L8.5 2.5l-.94 2.06-2.06.94zm10 10l.94 2.06.94-2.06 2.06-.94-2.06-.94-.94-2.06-.94 2.06-2.06.94z\"/><path d=\"M17.41 7.96l-1.37-1.37c-.4-.4-.92-.59-1.43-.59-.52 0-1.04.2-1.43.59L10.3 9.45l-7.72 7.72c-.78.78-.78 2.05 0 2.83L4 21.41c.39.39.9.59 1.41.59.51 0 1.02-.2 1.41-.59l7.78-7.78 2.81-2.81c.8-.78.8-2.07 0-2.86zM5.41 20L4 18.59l7.72-7.72 1.47 1.35L5.41 20z\"/>\n",
              "  </svg>\n",
              "      </button>\n",
              "      \n",
              "  <style>\n",
              "    .colab-df-container {\n",
              "      display:flex;\n",
              "      flex-wrap:wrap;\n",
              "      gap: 12px;\n",
              "    }\n",
              "\n",
              "    .colab-df-convert {\n",
              "      background-color: #E8F0FE;\n",
              "      border: none;\n",
              "      border-radius: 50%;\n",
              "      cursor: pointer;\n",
              "      display: none;\n",
              "      fill: #1967D2;\n",
              "      height: 32px;\n",
              "      padding: 0 0 0 0;\n",
              "      width: 32px;\n",
              "    }\n",
              "\n",
              "    .colab-df-convert:hover {\n",
              "      background-color: #E2EBFA;\n",
              "      box-shadow: 0px 1px 2px rgba(60, 64, 67, 0.3), 0px 1px 3px 1px rgba(60, 64, 67, 0.15);\n",
              "      fill: #174EA6;\n",
              "    }\n",
              "\n",
              "    [theme=dark] .colab-df-convert {\n",
              "      background-color: #3B4455;\n",
              "      fill: #D2E3FC;\n",
              "    }\n",
              "\n",
              "    [theme=dark] .colab-df-convert:hover {\n",
              "      background-color: #434B5C;\n",
              "      box-shadow: 0px 1px 3px 1px rgba(0, 0, 0, 0.15);\n",
              "      filter: drop-shadow(0px 1px 2px rgba(0, 0, 0, 0.3));\n",
              "      fill: #FFFFFF;\n",
              "    }\n",
              "  </style>\n",
              "\n",
              "      <script>\n",
              "        const buttonEl =\n",
              "          document.querySelector('#df-2a5bcfb8-78f0-416d-a168-3c02a2dce77b button.colab-df-convert');\n",
              "        buttonEl.style.display =\n",
              "          google.colab.kernel.accessAllowed ? 'block' : 'none';\n",
              "\n",
              "        async function convertToInteractive(key) {\n",
              "          const element = document.querySelector('#df-2a5bcfb8-78f0-416d-a168-3c02a2dce77b');\n",
              "          const dataTable =\n",
              "            await google.colab.kernel.invokeFunction('convertToInteractive',\n",
              "                                                     [key], {});\n",
              "          if (!dataTable) return;\n",
              "\n",
              "          const docLinkHtml = 'Like what you see? Visit the ' +\n",
              "            '<a target=\"_blank\" href=https://colab.research.google.com/notebooks/data_table.ipynb>data table notebook</a>'\n",
              "            + ' to learn more about interactive tables.';\n",
              "          element.innerHTML = '';\n",
              "          dataTable['output_type'] = 'display_data';\n",
              "          await google.colab.output.renderOutput(dataTable, element);\n",
              "          const docLink = document.createElement('div');\n",
              "          docLink.innerHTML = docLinkHtml;\n",
              "          element.appendChild(docLink);\n",
              "        }\n",
              "      </script>\n",
              "    </div>\n",
              "  </div>\n",
              "  "
            ]
          },
          "metadata": {},
          "execution_count": 4
        }
      ]
    },
    {
      "cell_type": "code",
      "source": [
        "def reduce_mem_usage(train):\n",
        "    \"\"\" iterate through all the columns of a dataframe and modify the data type\n",
        "        to reduce memory usage.        \n",
        "    \"\"\"\n",
        "    start_mem = train.memory_usage().sum() / 1024**2\n",
        "    print('Memory usage of dataframe is {:.2f} MB'.format(start_mem))\n",
        "    \n",
        "    for col in train.columns:\n",
        "        col_type = train[col].dtype\n",
        "        \n",
        "        if col_type != object:\n",
        "            c_min = train[col].min()\n",
        "            c_max = train[col].max()\n",
        "            if str(col_type)[:3] == 'int':\n",
        "                if c_min > np.iinfo(np.int8).min and c_max < np.iinfo(np.int8).max:\n",
        "                    train[col] = train[col].astype(np.int8)\n",
        "                elif c_min > np.iinfo(np.int16).min and c_max < np.iinfo(np.int16).max:\n",
        "                    train[col] = train[col].astype(np.int16)\n",
        "                elif c_min > np.iinfo(np.int32).min and c_max < np.iinfo(np.int32).max:\n",
        "                    train[col] = train[col].astype(np.int32)\n",
        "                elif c_min > np.iinfo(np.int64).min and c_max < np.iinfo(np.int64).max:\n",
        "                    train[col] = train[col].astype(np.int64)  \n",
        "            else:\n",
        "                if c_min > np.finfo(np.float16).min and c_max < np.finfo(np.float16).max:\n",
        "                    train[col] = train[col].astype(np.float16)\n",
        "                elif c_min > np.finfo(np.float32).min and c_max < np.finfo(np.float32).max:\n",
        "                    train[col] = train[col].astype(np.float32)\n",
        "                else:\n",
        "                    train[col] = train[col].astype(np.float64)\n",
        "        else:\n",
        "            train[col] = train[col].astype('object')\n",
        "\n",
        "    end_mem = train.memory_usage().sum() / 1024**2\n",
        "    print('Memory usage after optimization is: {:.2f} MB'.format(end_mem))\n",
        "    print('Decreased by {:.1f}%'.format(100 * (start_mem - end_mem) / start_mem))\n",
        "    \n",
        "    return train"
      ],
      "metadata": {
        "id": "WQcww8sMeIPg"
      },
      "execution_count": 5,
      "outputs": []
    },
    {
      "cell_type": "code",
      "source": [
        "import numpy as np\n",
        "train= reduce_mem_usage(train)\n",
        "train.info()"
      ],
      "metadata": {
        "colab": {
          "base_uri": "https://localhost:8080/"
        },
        "id": "Jo1mcYZbh0oO",
        "outputId": "5a1418a1-141b-439b-e354-7888fc335df8"
      },
      "execution_count": 6,
      "outputs": [
        {
          "output_type": "stream",
          "name": "stdout",
          "text": [
            "Memory usage of dataframe is 4.10 MB\n",
            "Memory usage after optimization is: 0.57 MB\n",
            "Decreased by 86.0%\n",
            "<class 'pandas.core.frame.DataFrame'>\n",
            "RangeIndex: 31583 entries, 0 to 31582\n",
            "Data columns (total 17 columns):\n",
            " #   Column                Non-Null Count  Dtype  \n",
            "---  ------                --------------  -----  \n",
            " 0   LTE/5g Category       31583 non-null  int8   \n",
            " 1   Time                  31583 non-null  int8   \n",
            " 2   Packet Loss Rate      31583 non-null  float16\n",
            " 3   Packet delay          31583 non-null  int16  \n",
            " 4   IoT                   31583 non-null  int8   \n",
            " 5   LTE/5G                31583 non-null  int8   \n",
            " 6   GBR                   31583 non-null  int8   \n",
            " 7   Non-GBR               31583 non-null  int8   \n",
            " 8   AR/VR/Gaming          31583 non-null  int8   \n",
            " 9   Healthcare            31583 non-null  int8   \n",
            " 10  Industry 4.0          31583 non-null  int8   \n",
            " 11  IoT Devices           31583 non-null  int8   \n",
            " 12  Public Safety         31583 non-null  int8   \n",
            " 13  Smart City & Home     31583 non-null  int8   \n",
            " 14  Smart Transportation  31583 non-null  int8   \n",
            " 15  Smartphone            31583 non-null  int8   \n",
            " 16  slice Type            31583 non-null  int8   \n",
            "dtypes: float16(1), int16(1), int8(15)\n",
            "memory usage: 586.1 KB\n"
          ]
        }
      ]
    },
    {
      "cell_type": "code",
      "source": [
        "test= reduce_mem_usage(test)\n",
        "test.info()"
      ],
      "metadata": {
        "colab": {
          "base_uri": "https://localhost:8080/"
        },
        "id": "P-RMzec7h4mc",
        "outputId": "56fe786d-69d2-4aa7-d4e8-ef1d7505ae80"
      },
      "execution_count": 7,
      "outputs": [
        {
          "output_type": "stream",
          "name": "stdout",
          "text": [
            "Memory usage of dataframe is 3.86 MB\n",
            "Memory usage after optimization is: 0.54 MB\n",
            "Decreased by 85.9%\n",
            "<class 'pandas.core.frame.DataFrame'>\n",
            "RangeIndex: 31584 entries, 0 to 31583\n",
            "Data columns (total 16 columns):\n",
            " #   Column                Non-Null Count  Dtype  \n",
            "---  ------                --------------  -----  \n",
            " 0   LTE/5g Category       31584 non-null  int8   \n",
            " 1   Time                  31584 non-null  int8   \n",
            " 2   Packet Loss Rate      31584 non-null  float16\n",
            " 3   Packet delay          31584 non-null  int16  \n",
            " 4   IoT                   31584 non-null  int8   \n",
            " 5   LTE/5G                31584 non-null  int8   \n",
            " 6   GBR                   31584 non-null  int8   \n",
            " 7   Non-GBR               31584 non-null  int8   \n",
            " 8   AR/VR/Gaming          31584 non-null  int8   \n",
            " 9   Healthcare            31584 non-null  int8   \n",
            " 10  Industry 4.0          31584 non-null  int8   \n",
            " 11  IoT Devices           31584 non-null  int8   \n",
            " 12  Public Safety         31584 non-null  int8   \n",
            " 13  Smart City & Home     31584 non-null  int8   \n",
            " 14  Smart Transportation  31584 non-null  int8   \n",
            " 15  Smartphone            31584 non-null  int8   \n",
            "dtypes: float16(1), int16(1), int8(14)\n",
            "memory usage: 555.3 KB\n"
          ]
        }
      ]
    },
    {
      "cell_type": "code",
      "source": [
        "y = train.pop('slice Type')\n",
        "X = train"
      ],
      "metadata": {
        "id": "6R_CHoW8gbMs"
      },
      "execution_count": 8,
      "outputs": []
    },
    {
      "cell_type": "code",
      "source": [
        "from sklearn.model_selection import train_test_split\n",
        "X_train, X_test, y_train, y_test = train_test_split( X, y, test_size=0.2, random_state=42,shuffle=True, stratify=y)"
      ],
      "metadata": {
        "id": "abMQ3uxbhRYA"
      },
      "execution_count": 9,
      "outputs": []
    },
    {
      "cell_type": "code",
      "source": [
        "automlclassifier=classifier.AutoSklearnClassifier(time_left_for_this_task=180,per_run_time_limit=40)\n",
        "automlclassifier.fit(X_train,y_train)"
      ],
      "metadata": {
        "colab": {
          "base_uri": "https://localhost:8080/"
        },
        "id": "tOdqD1ESiovx",
        "outputId": "8d3f49c2-2caa-47b4-88a7-afdc94402fed"
      },
      "execution_count": null,
      "outputs": [
        {
          "output_type": "execute_result",
          "data": {
            "text/plain": [
              "AutoSklearnClassifier(per_run_time_limit=40, time_left_for_this_task=180)"
            ]
          },
          "metadata": {},
          "execution_count": 22
        }
      ]
    },
    {
      "cell_type": "code",
      "source": [
        "automlclassifier.show_models()"
      ],
      "metadata": {
        "colab": {
          "base_uri": "https://localhost:8080/"
        },
        "id": "Q8IvYdCdkmu7",
        "outputId": "f6e9d09c-19a4-4aed-e522-d688f17415bc"
      },
      "execution_count": null,
      "outputs": [
        {
          "output_type": "execute_result",
          "data": {
            "text/plain": [
              "{2: {'model_id': 2,\n",
              "  'rank': 1,\n",
              "  'cost': 0.0,\n",
              "  'ensemble_weight': 0.08,\n",
              "  'data_preprocessor': <autosklearn.pipeline.components.data_preprocessing.DataPreprocessorChoice at 0x7f281aa2f190>,\n",
              "  'balancing': Balancing(random_state=1),\n",
              "  'feature_preprocessor': <autosklearn.pipeline.components.feature_preprocessing.FeaturePreprocessorChoice at 0x7f281aa87f10>,\n",
              "  'classifier': <autosklearn.pipeline.components.classification.ClassifierChoice at 0x7f281aa87bd0>,\n",
              "  'sklearn_classifier': RandomForestClassifier(max_features=4, n_estimators=512, n_jobs=1,\n",
              "                         random_state=1, warm_start=True)},\n",
              " 4: {'model_id': 4,\n",
              "  'rank': 2,\n",
              "  'cost': 0.0,\n",
              "  'ensemble_weight': 0.12,\n",
              "  'data_preprocessor': <autosklearn.pipeline.components.data_preprocessing.DataPreprocessorChoice at 0x7f281aa60490>,\n",
              "  'balancing': Balancing(random_state=1, strategy='weighting'),\n",
              "  'feature_preprocessor': <autosklearn.pipeline.components.feature_preprocessing.FeaturePreprocessorChoice at 0x7f281aa98490>,\n",
              "  'classifier': <autosklearn.pipeline.components.classification.ClassifierChoice at 0x7f281aa98fd0>,\n",
              "  'sklearn_classifier': HistGradientBoostingClassifier(early_stopping=False, l2_regularization=1e-10,\n",
              "                                 learning_rate=0.056233891852873925, max_iter=512,\n",
              "                                 max_leaf_nodes=227, min_samples_leaf=1,\n",
              "                                 n_iter_no_change=0, random_state=1,\n",
              "                                 validation_fraction=None, warm_start=True)},\n",
              " 5: {'model_id': 5,\n",
              "  'rank': 3,\n",
              "  'cost': 0.0,\n",
              "  'ensemble_weight': 0.06,\n",
              "  'data_preprocessor': <autosklearn.pipeline.components.data_preprocessing.DataPreprocessorChoice at 0x7f281aa28850>,\n",
              "  'balancing': Balancing(random_state=1),\n",
              "  'feature_preprocessor': <autosklearn.pipeline.components.feature_preprocessing.FeaturePreprocessorChoice at 0x7f281a9e7250>,\n",
              "  'classifier': <autosklearn.pipeline.components.classification.ClassifierChoice at 0x7f281a9e7790>,\n",
              "  'sklearn_classifier': SGDClassifier(alpha=1.6992296128865824e-07, average=True, eta0=0.01, loss='log',\n",
              "                max_iter=16, penalty='l1', random_state=1,\n",
              "                tol=1.535384699341134e-05, warm_start=True)},\n",
              " 6: {'model_id': 6,\n",
              "  'rank': 4,\n",
              "  'cost': 0.0,\n",
              "  'ensemble_weight': 0.06,\n",
              "  'data_preprocessor': <autosklearn.pipeline.components.data_preprocessing.DataPreprocessorChoice at 0x7f281aa20a50>,\n",
              "  'balancing': Balancing(random_state=1, strategy='weighting'),\n",
              "  'feature_preprocessor': <autosklearn.pipeline.components.feature_preprocessing.FeaturePreprocessorChoice at 0x7f281a9d7110>,\n",
              "  'classifier': <autosklearn.pipeline.components.classification.ClassifierChoice at 0x7f281a972cd0>,\n",
              "  'sklearn_classifier': SVC(C=181.96184687258582, cache_size=1905.6666666666667,\n",
              "      class_weight='balanced', gamma=1.8287341102334311, max_iter=-1.0,\n",
              "      random_state=1, tol=0.013996997317851007)},\n",
              " 7: {'model_id': 7,\n",
              "  'rank': 5,\n",
              "  'cost': 0.0,\n",
              "  'ensemble_weight': 0.08,\n",
              "  'data_preprocessor': <autosklearn.pipeline.components.data_preprocessing.DataPreprocessorChoice at 0x7f281a9ac590>,\n",
              "  'balancing': Balancing(random_state=1),\n",
              "  'feature_preprocessor': <autosklearn.pipeline.components.feature_preprocessing.FeaturePreprocessorChoice at 0x7f281a9720d0>,\n",
              "  'classifier': <autosklearn.pipeline.components.classification.ClassifierChoice at 0x7f281a931390>,\n",
              "  'sklearn_classifier': HistGradientBoostingClassifier(early_stopping=True,\n",
              "                                 l2_regularization=1.3153561911035717e-10,\n",
              "                                 learning_rate=0.025345400213312417, max_iter=512,\n",
              "                                 max_leaf_nodes=16, min_samples_leaf=27,\n",
              "                                 n_iter_no_change=5, random_state=1,\n",
              "                                 validation_fraction=0.2361478213622299,\n",
              "                                 warm_start=True)},\n",
              " 8: {'model_id': 8,\n",
              "  'rank': 6,\n",
              "  'cost': 0.0,\n",
              "  'ensemble_weight': 0.08,\n",
              "  'data_preprocessor': <autosklearn.pipeline.components.data_preprocessing.DataPreprocessorChoice at 0x7f281a9dc110>,\n",
              "  'balancing': Balancing(random_state=1, strategy='weighting'),\n",
              "  'feature_preprocessor': <autosklearn.pipeline.components.feature_preprocessing.FeaturePreprocessorChoice at 0x7f2819276910>,\n",
              "  'classifier': <autosklearn.pipeline.components.classification.ClassifierChoice at 0x7f28191eab10>,\n",
              "  'sklearn_classifier': ExtraTreesClassifier(criterion='entropy', max_features=14, min_samples_leaf=2,\n",
              "                       min_samples_split=6, n_estimators=512, n_jobs=1,\n",
              "                       random_state=1, warm_start=True)},\n",
              " 9: {'model_id': 9,\n",
              "  'rank': 7,\n",
              "  'cost': 0.0,\n",
              "  'ensemble_weight': 0.08,\n",
              "  'data_preprocessor': <autosklearn.pipeline.components.data_preprocessing.DataPreprocessorChoice at 0x7f281926fd90>,\n",
              "  'balancing': Balancing(random_state=1),\n",
              "  'feature_preprocessor': <autosklearn.pipeline.components.feature_preprocessing.FeaturePreprocessorChoice at 0x7f28191f5850>,\n",
              "  'classifier': <autosklearn.pipeline.components.classification.ClassifierChoice at 0x7f28191f5e10>,\n",
              "  'sklearn_classifier': RandomForestClassifier(max_features=8, min_samples_leaf=15, min_samples_split=3,\n",
              "                         n_estimators=512, n_jobs=1, random_state=1,\n",
              "                         warm_start=True)},\n",
              " 10: {'model_id': 10,\n",
              "  'rank': 8,\n",
              "  'cost': 0.0,\n",
              "  'ensemble_weight': 0.12,\n",
              "  'data_preprocessor': <autosklearn.pipeline.components.data_preprocessing.DataPreprocessorChoice at 0x7f281a9d7a50>,\n",
              "  'balancing': Balancing(random_state=1, strategy='weighting'),\n",
              "  'feature_preprocessor': <autosklearn.pipeline.components.feature_preprocessing.FeaturePreprocessorChoice at 0x7f28192fc790>,\n",
              "  'classifier': <autosklearn.pipeline.components.classification.ClassifierChoice at 0x7f28192016d0>,\n",
              "  'sklearn_classifier': SVC(C=0.96472524110086, cache_size=1904.0390625, class_weight='balanced',\n",
              "      coef0=0.07340987235571972, degree=2, gamma=0.32003431657702625,\n",
              "      kernel='poly', max_iter=-1.0, random_state=1, shrinking=False,\n",
              "      tol=0.0005751778021671754)},\n",
              " 12: {'model_id': 12,\n",
              "  'rank': 9,\n",
              "  'cost': 0.0,\n",
              "  'ensemble_weight': 0.1,\n",
              "  'data_preprocessor': <autosklearn.pipeline.components.data_preprocessing.DataPreprocessorChoice at 0x7f28192e5f50>,\n",
              "  'balancing': Balancing(random_state=1, strategy='weighting'),\n",
              "  'feature_preprocessor': <autosklearn.pipeline.components.feature_preprocessing.FeaturePreprocessorChoice at 0x7f2817567f10>,\n",
              "  'classifier': <autosklearn.pipeline.components.classification.ClassifierChoice at 0x7f2817567210>,\n",
              "  'sklearn_classifier': HistGradientBoostingClassifier(early_stopping=True,\n",
              "                                 l2_regularization=5.027708640006448e-08,\n",
              "                                 learning_rate=0.09750328007832798, max_iter=128,\n",
              "                                 max_leaf_nodes=1234, min_samples_leaf=25,\n",
              "                                 n_iter_no_change=1, random_state=1,\n",
              "                                 validation_fraction=0.08300813783286698,\n",
              "                                 warm_start=True)},\n",
              " 14: {'model_id': 14,\n",
              "  'rank': 10,\n",
              "  'cost': 0.0,\n",
              "  'ensemble_weight': 0.16,\n",
              "  'data_preprocessor': <autosklearn.pipeline.components.data_preprocessing.DataPreprocessorChoice at 0x7f281aeb1f50>,\n",
              "  'balancing': Balancing(random_state=1),\n",
              "  'feature_preprocessor': <autosklearn.pipeline.components.feature_preprocessing.FeaturePreprocessorChoice at 0x7f2817527650>,\n",
              "  'classifier': <autosklearn.pipeline.components.classification.ClassifierChoice at 0x7f2817527e90>,\n",
              "  'sklearn_classifier': HistGradientBoostingClassifier(early_stopping=True,\n",
              "                                 l2_regularization=1.7108930238344161e-10,\n",
              "                                 learning_rate=0.010827728124541558, max_iter=512,\n",
              "                                 max_leaf_nodes=25, min_samples_leaf=4,\n",
              "                                 n_iter_no_change=19, random_state=1,\n",
              "                                 validation_fraction=0.1759114608225653,\n",
              "                                 warm_start=True)},\n",
              " 15: {'model_id': 15,\n",
              "  'rank': 11,\n",
              "  'cost': 0.00395778364116095,\n",
              "  'ensemble_weight': 0.06,\n",
              "  'data_preprocessor': <autosklearn.pipeline.components.data_preprocessing.DataPreprocessorChoice at 0x7f28192c8410>,\n",
              "  'balancing': Balancing(random_state=1),\n",
              "  'feature_preprocessor': <autosklearn.pipeline.components.feature_preprocessing.FeaturePreprocessorChoice at 0x7f281ab0e450>,\n",
              "  'classifier': <autosklearn.pipeline.components.classification.ClassifierChoice at 0x7f2818d689d0>,\n",
              "  'sklearn_classifier': MLPClassifier(activation='tanh', alpha=3.542372581884717e-07, beta_1=0.999,\n",
              "                beta_2=0.9, hidden_layer_sizes=(54, 54),\n",
              "                learning_rate_init=0.00016753718126302934, max_iter=32,\n",
              "                n_iter_no_change=32, random_state=1, validation_fraction=0.0,\n",
              "                verbose=0, warm_start=True)}}"
            ]
          },
          "metadata": {},
          "execution_count": 23
        }
      ]
    },
    {
      "cell_type": "code",
      "source": [
        "from sklearn.metrics import accuracy_score\n"
      ],
      "metadata": {
        "id": "Wc4jGckelGtz"
      },
      "execution_count": 12,
      "outputs": []
    },
    {
      "cell_type": "code",
      "source": [
        "y_pred=automlclassifier.predict(X_test)"
      ],
      "metadata": {
        "id": "BQI3bYG7Mjlx"
      },
      "execution_count": null,
      "outputs": []
    },
    {
      "cell_type": "code",
      "source": [
        "print(accuracy_score(y_test,y_pred))"
      ],
      "metadata": {
        "colab": {
          "base_uri": "https://localhost:8080/"
        },
        "id": "DVaIT1rale4X",
        "outputId": "29b12c71-500a-4341-9502-98d52d2731a1"
      },
      "execution_count": null,
      "outputs": [
        {
          "output_type": "stream",
          "name": "stdout",
          "text": [
            "1.0\n"
          ]
        }
      ]
    },
    {
      "cell_type": "code",
      "source": [
        "from sklearn.metrics import classification_report\n"
      ],
      "metadata": {
        "id": "qDTkYBEAmFPd"
      },
      "execution_count": 14,
      "outputs": []
    },
    {
      "cell_type": "code",
      "source": [
        "print(classification_report(y_train, automlclassifier.predict(X_train)))"
      ],
      "metadata": {
        "id": "AMYpJY0mMt2G"
      },
      "execution_count": null,
      "outputs": []
    },
    {
      "cell_type": "code",
      "source": [
        "print(classification_report(y_test, automlclassifier.predict(X_test)))"
      ],
      "metadata": {
        "colab": {
          "base_uri": "https://localhost:8080/"
        },
        "id": "kbUg9QGv6mZJ",
        "outputId": "adcbd2fa-506a-40ef-8dd5-0cda7dd7046c"
      },
      "execution_count": null,
      "outputs": [
        {
          "output_type": "stream",
          "name": "stdout",
          "text": [
            "              precision    recall  f1-score   support\n",
            "\n",
            "           1       1.00      1.00      1.00      3360\n",
            "           2       1.00      1.00      1.00      1479\n",
            "           3       1.00      1.00      1.00      1478\n",
            "\n",
            "    accuracy                           1.00      6317\n",
            "   macro avg       1.00      1.00      1.00      6317\n",
            "weighted avg       1.00      1.00      1.00      6317\n",
            "\n"
          ]
        }
      ]
    },
    {
      "cell_type": "code",
      "source": [
        "y_pred = automlclassifier.predict(test)\n",
        "y_pred[:20]\n"
      ],
      "metadata": {
        "colab": {
          "base_uri": "https://localhost:8080/"
        },
        "id": "BGPBiAyH6xYA",
        "outputId": "6c7cb010-ca8d-407f-80fb-ea2ea9faf47a"
      },
      "execution_count": null,
      "outputs": [
        {
          "output_type": "execute_result",
          "data": {
            "text/plain": [
              "array([1, 3, 2, 2, 1, 1, 2, 2, 3, 1, 1, 1, 2, 1, 3, 3, 1, 1, 1, 2],\n",
              "      dtype=int8)"
            ]
          },
          "metadata": {},
          "execution_count": 37
        }
      ]
    },
    {
      "cell_type": "code",
      "source": [
        "sol = pd.DataFrame(y_pred,columns=['slice Type'])\n",
        "sol.head(20)"
      ],
      "metadata": {
        "colab": {
          "base_uri": "https://localhost:8080/",
          "height": 676
        },
        "id": "Xt-AmwUq69Nr",
        "outputId": "646a9f43-f057-4eda-ff20-6c01a33288e3"
      },
      "execution_count": null,
      "outputs": [
        {
          "output_type": "execute_result",
          "data": {
            "text/plain": [
              "    slice Type\n",
              "0            1\n",
              "1            3\n",
              "2            2\n",
              "3            2\n",
              "4            1\n",
              "5            1\n",
              "6            2\n",
              "7            2\n",
              "8            3\n",
              "9            1\n",
              "10           1\n",
              "11           1\n",
              "12           2\n",
              "13           1\n",
              "14           3\n",
              "15           3\n",
              "16           1\n",
              "17           1\n",
              "18           1\n",
              "19           2"
            ],
            "text/html": [
              "\n",
              "  <div id=\"df-09b57a9b-25ac-4fca-a84a-30919bf08e38\">\n",
              "    <div class=\"colab-df-container\">\n",
              "      <div>\n",
              "<style scoped>\n",
              "    .dataframe tbody tr th:only-of-type {\n",
              "        vertical-align: middle;\n",
              "    }\n",
              "\n",
              "    .dataframe tbody tr th {\n",
              "        vertical-align: top;\n",
              "    }\n",
              "\n",
              "    .dataframe thead th {\n",
              "        text-align: right;\n",
              "    }\n",
              "</style>\n",
              "<table border=\"1\" class=\"dataframe\">\n",
              "  <thead>\n",
              "    <tr style=\"text-align: right;\">\n",
              "      <th></th>\n",
              "      <th>slice Type</th>\n",
              "    </tr>\n",
              "  </thead>\n",
              "  <tbody>\n",
              "    <tr>\n",
              "      <th>0</th>\n",
              "      <td>1</td>\n",
              "    </tr>\n",
              "    <tr>\n",
              "      <th>1</th>\n",
              "      <td>3</td>\n",
              "    </tr>\n",
              "    <tr>\n",
              "      <th>2</th>\n",
              "      <td>2</td>\n",
              "    </tr>\n",
              "    <tr>\n",
              "      <th>3</th>\n",
              "      <td>2</td>\n",
              "    </tr>\n",
              "    <tr>\n",
              "      <th>4</th>\n",
              "      <td>1</td>\n",
              "    </tr>\n",
              "    <tr>\n",
              "      <th>5</th>\n",
              "      <td>1</td>\n",
              "    </tr>\n",
              "    <tr>\n",
              "      <th>6</th>\n",
              "      <td>2</td>\n",
              "    </tr>\n",
              "    <tr>\n",
              "      <th>7</th>\n",
              "      <td>2</td>\n",
              "    </tr>\n",
              "    <tr>\n",
              "      <th>8</th>\n",
              "      <td>3</td>\n",
              "    </tr>\n",
              "    <tr>\n",
              "      <th>9</th>\n",
              "      <td>1</td>\n",
              "    </tr>\n",
              "    <tr>\n",
              "      <th>10</th>\n",
              "      <td>1</td>\n",
              "    </tr>\n",
              "    <tr>\n",
              "      <th>11</th>\n",
              "      <td>1</td>\n",
              "    </tr>\n",
              "    <tr>\n",
              "      <th>12</th>\n",
              "      <td>2</td>\n",
              "    </tr>\n",
              "    <tr>\n",
              "      <th>13</th>\n",
              "      <td>1</td>\n",
              "    </tr>\n",
              "    <tr>\n",
              "      <th>14</th>\n",
              "      <td>3</td>\n",
              "    </tr>\n",
              "    <tr>\n",
              "      <th>15</th>\n",
              "      <td>3</td>\n",
              "    </tr>\n",
              "    <tr>\n",
              "      <th>16</th>\n",
              "      <td>1</td>\n",
              "    </tr>\n",
              "    <tr>\n",
              "      <th>17</th>\n",
              "      <td>1</td>\n",
              "    </tr>\n",
              "    <tr>\n",
              "      <th>18</th>\n",
              "      <td>1</td>\n",
              "    </tr>\n",
              "    <tr>\n",
              "      <th>19</th>\n",
              "      <td>2</td>\n",
              "    </tr>\n",
              "  </tbody>\n",
              "</table>\n",
              "</div>\n",
              "      <button class=\"colab-df-convert\" onclick=\"convertToInteractive('df-09b57a9b-25ac-4fca-a84a-30919bf08e38')\"\n",
              "              title=\"Convert this dataframe to an interactive table.\"\n",
              "              style=\"display:none;\">\n",
              "        \n",
              "  <svg xmlns=\"http://www.w3.org/2000/svg\" height=\"24px\"viewBox=\"0 0 24 24\"\n",
              "       width=\"24px\">\n",
              "    <path d=\"M0 0h24v24H0V0z\" fill=\"none\"/>\n",
              "    <path d=\"M18.56 5.44l.94 2.06.94-2.06 2.06-.94-2.06-.94-.94-2.06-.94 2.06-2.06.94zm-11 1L8.5 8.5l.94-2.06 2.06-.94-2.06-.94L8.5 2.5l-.94 2.06-2.06.94zm10 10l.94 2.06.94-2.06 2.06-.94-2.06-.94-.94-2.06-.94 2.06-2.06.94z\"/><path d=\"M17.41 7.96l-1.37-1.37c-.4-.4-.92-.59-1.43-.59-.52 0-1.04.2-1.43.59L10.3 9.45l-7.72 7.72c-.78.78-.78 2.05 0 2.83L4 21.41c.39.39.9.59 1.41.59.51 0 1.02-.2 1.41-.59l7.78-7.78 2.81-2.81c.8-.78.8-2.07 0-2.86zM5.41 20L4 18.59l7.72-7.72 1.47 1.35L5.41 20z\"/>\n",
              "  </svg>\n",
              "      </button>\n",
              "      \n",
              "  <style>\n",
              "    .colab-df-container {\n",
              "      display:flex;\n",
              "      flex-wrap:wrap;\n",
              "      gap: 12px;\n",
              "    }\n",
              "\n",
              "    .colab-df-convert {\n",
              "      background-color: #E8F0FE;\n",
              "      border: none;\n",
              "      border-radius: 50%;\n",
              "      cursor: pointer;\n",
              "      display: none;\n",
              "      fill: #1967D2;\n",
              "      height: 32px;\n",
              "      padding: 0 0 0 0;\n",
              "      width: 32px;\n",
              "    }\n",
              "\n",
              "    .colab-df-convert:hover {\n",
              "      background-color: #E2EBFA;\n",
              "      box-shadow: 0px 1px 2px rgba(60, 64, 67, 0.3), 0px 1px 3px 1px rgba(60, 64, 67, 0.15);\n",
              "      fill: #174EA6;\n",
              "    }\n",
              "\n",
              "    [theme=dark] .colab-df-convert {\n",
              "      background-color: #3B4455;\n",
              "      fill: #D2E3FC;\n",
              "    }\n",
              "\n",
              "    [theme=dark] .colab-df-convert:hover {\n",
              "      background-color: #434B5C;\n",
              "      box-shadow: 0px 1px 3px 1px rgba(0, 0, 0, 0.15);\n",
              "      filter: drop-shadow(0px 1px 2px rgba(0, 0, 0, 0.3));\n",
              "      fill: #FFFFFF;\n",
              "    }\n",
              "  </style>\n",
              "\n",
              "      <script>\n",
              "        const buttonEl =\n",
              "          document.querySelector('#df-09b57a9b-25ac-4fca-a84a-30919bf08e38 button.colab-df-convert');\n",
              "        buttonEl.style.display =\n",
              "          google.colab.kernel.accessAllowed ? 'block' : 'none';\n",
              "\n",
              "        async function convertToInteractive(key) {\n",
              "          const element = document.querySelector('#df-09b57a9b-25ac-4fca-a84a-30919bf08e38');\n",
              "          const dataTable =\n",
              "            await google.colab.kernel.invokeFunction('convertToInteractive',\n",
              "                                                     [key], {});\n",
              "          if (!dataTable) return;\n",
              "\n",
              "          const docLinkHtml = 'Like what you see? Visit the ' +\n",
              "            '<a target=\"_blank\" href=https://colab.research.google.com/notebooks/data_table.ipynb>data table notebook</a>'\n",
              "            + ' to learn more about interactive tables.';\n",
              "          element.innerHTML = '';\n",
              "          dataTable['output_type'] = 'display_data';\n",
              "          await google.colab.output.renderOutput(dataTable, element);\n",
              "          const docLink = document.createElement('div');\n",
              "          docLink.innerHTML = docLinkHtml;\n",
              "          element.appendChild(docLink);\n",
              "        }\n",
              "      </script>\n",
              "    </div>\n",
              "  </div>\n",
              "  "
            ]
          },
          "metadata": {},
          "execution_count": 38
        }
      ]
    },
    {
      "cell_type": "code",
      "source": [
        "from sklearn.ensemble import RandomForestClassifier"
      ],
      "metadata": {
        "id": "MWRC-svT7kaV"
      },
      "execution_count": null,
      "outputs": []
    },
    {
      "cell_type": "code",
      "source": [
        "RFC=RandomForestClassifier(max_features=4, n_estimators=512, n_jobs=1, random_state=1, warm_start=True)"
      ],
      "metadata": {
        "id": "dgusaAEx9qh3"
      },
      "execution_count": null,
      "outputs": []
    },
    {
      "cell_type": "code",
      "source": [
        "RFC.fit(X_train,y_train)"
      ],
      "metadata": {
        "colab": {
          "base_uri": "https://localhost:8080/"
        },
        "id": "glGl-e4y9627",
        "outputId": "d6c43f96-a2ee-46e2-f12a-0943b8aa1e91"
      },
      "execution_count": null,
      "outputs": [
        {
          "output_type": "execute_result",
          "data": {
            "text/plain": [
              "RandomForestClassifier(max_features=4, n_estimators=512, n_jobs=1,\n",
              "                       random_state=1, warm_start=True)"
            ]
          },
          "metadata": {},
          "execution_count": 42
        }
      ]
    },
    {
      "cell_type": "code",
      "source": [
        "y_pred=RFC.predict(X_test)"
      ],
      "metadata": {
        "id": "srpu5RtP-pKW"
      },
      "execution_count": null,
      "outputs": []
    },
    {
      "cell_type": "code",
      "source": [
        "print(accuracy_score(y_test,y_pred))"
      ],
      "metadata": {
        "colab": {
          "base_uri": "https://localhost:8080/"
        },
        "id": "rsecQsqB-27G",
        "outputId": "94ca6c63-b8aa-48e8-e9c6-54982e16d867"
      },
      "execution_count": null,
      "outputs": [
        {
          "output_type": "stream",
          "name": "stdout",
          "text": [
            "1.0\n"
          ]
        }
      ]
    },
    {
      "cell_type": "code",
      "source": [
        "print(classification_report(y_train, RFC.predict(X_train)))"
      ],
      "metadata": {
        "colab": {
          "base_uri": "https://localhost:8080/"
        },
        "id": "WNpNtKYU-8rt",
        "outputId": "a9d20f88-3be3-42ec-add1-0b8145afb1ae"
      },
      "execution_count": null,
      "outputs": [
        {
          "output_type": "stream",
          "name": "stdout",
          "text": [
            "              precision    recall  f1-score   support\n",
            "\n",
            "           1       1.00      1.00      1.00     13439\n",
            "           2       1.00      1.00      1.00      5913\n",
            "           3       1.00      1.00      1.00      5914\n",
            "\n",
            "    accuracy                           1.00     25266\n",
            "   macro avg       1.00      1.00      1.00     25266\n",
            "weighted avg       1.00      1.00      1.00     25266\n",
            "\n"
          ]
        }
      ]
    },
    {
      "cell_type": "code",
      "source": [
        "print(classification_report(y_test, RFC.predict(X_test)))"
      ],
      "metadata": {
        "colab": {
          "base_uri": "https://localhost:8080/"
        },
        "id": "DczqOH2F_HOY",
        "outputId": "9b0fe0d3-1cf7-49fc-c612-6e6834d96661"
      },
      "execution_count": null,
      "outputs": [
        {
          "output_type": "stream",
          "name": "stdout",
          "text": [
            "              precision    recall  f1-score   support\n",
            "\n",
            "           1       1.00      1.00      1.00      3360\n",
            "           2       1.00      1.00      1.00      1479\n",
            "           3       1.00      1.00      1.00      1478\n",
            "\n",
            "    accuracy                           1.00      6317\n",
            "   macro avg       1.00      1.00      1.00      6317\n",
            "weighted avg       1.00      1.00      1.00      6317\n",
            "\n"
          ]
        }
      ]
    },
    {
      "cell_type": "code",
      "source": [
        "y_pred = RFC.predict(test)\n",
        "y_pred[:20]\n"
      ],
      "metadata": {
        "colab": {
          "base_uri": "https://localhost:8080/"
        },
        "id": "G46n2uQ5_Ohp",
        "outputId": "c37e49f5-fef7-45b8-fc8d-7bdcc237bc72"
      },
      "execution_count": null,
      "outputs": [
        {
          "output_type": "execute_result",
          "data": {
            "text/plain": [
              "array([1, 3, 2, 2, 1, 1, 2, 2, 3, 1, 1, 1, 2, 1, 3, 3, 1, 1, 1, 2],\n",
              "      dtype=int8)"
            ]
          },
          "metadata": {},
          "execution_count": 50
        }
      ]
    },
    {
      "cell_type": "code",
      "source": [
        "sol = pd.DataFrame(y_pred,columns=['slice Type'])\n",
        "sol.head(20)"
      ],
      "metadata": {
        "colab": {
          "base_uri": "https://localhost:8080/",
          "height": 676
        },
        "id": "H5RCEFBH_Osj",
        "outputId": "86a004a4-336f-4814-ca4d-2968f565bf0d"
      },
      "execution_count": null,
      "outputs": [
        {
          "output_type": "execute_result",
          "data": {
            "text/plain": [
              "    slice Type\n",
              "0            1\n",
              "1            3\n",
              "2            2\n",
              "3            2\n",
              "4            1\n",
              "5            1\n",
              "6            2\n",
              "7            2\n",
              "8            3\n",
              "9            1\n",
              "10           1\n",
              "11           1\n",
              "12           2\n",
              "13           1\n",
              "14           3\n",
              "15           3\n",
              "16           1\n",
              "17           1\n",
              "18           1\n",
              "19           2"
            ],
            "text/html": [
              "\n",
              "  <div id=\"df-8d502538-a415-480b-a5c2-7697c26a8c29\">\n",
              "    <div class=\"colab-df-container\">\n",
              "      <div>\n",
              "<style scoped>\n",
              "    .dataframe tbody tr th:only-of-type {\n",
              "        vertical-align: middle;\n",
              "    }\n",
              "\n",
              "    .dataframe tbody tr th {\n",
              "        vertical-align: top;\n",
              "    }\n",
              "\n",
              "    .dataframe thead th {\n",
              "        text-align: right;\n",
              "    }\n",
              "</style>\n",
              "<table border=\"1\" class=\"dataframe\">\n",
              "  <thead>\n",
              "    <tr style=\"text-align: right;\">\n",
              "      <th></th>\n",
              "      <th>slice Type</th>\n",
              "    </tr>\n",
              "  </thead>\n",
              "  <tbody>\n",
              "    <tr>\n",
              "      <th>0</th>\n",
              "      <td>1</td>\n",
              "    </tr>\n",
              "    <tr>\n",
              "      <th>1</th>\n",
              "      <td>3</td>\n",
              "    </tr>\n",
              "    <tr>\n",
              "      <th>2</th>\n",
              "      <td>2</td>\n",
              "    </tr>\n",
              "    <tr>\n",
              "      <th>3</th>\n",
              "      <td>2</td>\n",
              "    </tr>\n",
              "    <tr>\n",
              "      <th>4</th>\n",
              "      <td>1</td>\n",
              "    </tr>\n",
              "    <tr>\n",
              "      <th>5</th>\n",
              "      <td>1</td>\n",
              "    </tr>\n",
              "    <tr>\n",
              "      <th>6</th>\n",
              "      <td>2</td>\n",
              "    </tr>\n",
              "    <tr>\n",
              "      <th>7</th>\n",
              "      <td>2</td>\n",
              "    </tr>\n",
              "    <tr>\n",
              "      <th>8</th>\n",
              "      <td>3</td>\n",
              "    </tr>\n",
              "    <tr>\n",
              "      <th>9</th>\n",
              "      <td>1</td>\n",
              "    </tr>\n",
              "    <tr>\n",
              "      <th>10</th>\n",
              "      <td>1</td>\n",
              "    </tr>\n",
              "    <tr>\n",
              "      <th>11</th>\n",
              "      <td>1</td>\n",
              "    </tr>\n",
              "    <tr>\n",
              "      <th>12</th>\n",
              "      <td>2</td>\n",
              "    </tr>\n",
              "    <tr>\n",
              "      <th>13</th>\n",
              "      <td>1</td>\n",
              "    </tr>\n",
              "    <tr>\n",
              "      <th>14</th>\n",
              "      <td>3</td>\n",
              "    </tr>\n",
              "    <tr>\n",
              "      <th>15</th>\n",
              "      <td>3</td>\n",
              "    </tr>\n",
              "    <tr>\n",
              "      <th>16</th>\n",
              "      <td>1</td>\n",
              "    </tr>\n",
              "    <tr>\n",
              "      <th>17</th>\n",
              "      <td>1</td>\n",
              "    </tr>\n",
              "    <tr>\n",
              "      <th>18</th>\n",
              "      <td>1</td>\n",
              "    </tr>\n",
              "    <tr>\n",
              "      <th>19</th>\n",
              "      <td>2</td>\n",
              "    </tr>\n",
              "  </tbody>\n",
              "</table>\n",
              "</div>\n",
              "      <button class=\"colab-df-convert\" onclick=\"convertToInteractive('df-8d502538-a415-480b-a5c2-7697c26a8c29')\"\n",
              "              title=\"Convert this dataframe to an interactive table.\"\n",
              "              style=\"display:none;\">\n",
              "        \n",
              "  <svg xmlns=\"http://www.w3.org/2000/svg\" height=\"24px\"viewBox=\"0 0 24 24\"\n",
              "       width=\"24px\">\n",
              "    <path d=\"M0 0h24v24H0V0z\" fill=\"none\"/>\n",
              "    <path d=\"M18.56 5.44l.94 2.06.94-2.06 2.06-.94-2.06-.94-.94-2.06-.94 2.06-2.06.94zm-11 1L8.5 8.5l.94-2.06 2.06-.94-2.06-.94L8.5 2.5l-.94 2.06-2.06.94zm10 10l.94 2.06.94-2.06 2.06-.94-2.06-.94-.94-2.06-.94 2.06-2.06.94z\"/><path d=\"M17.41 7.96l-1.37-1.37c-.4-.4-.92-.59-1.43-.59-.52 0-1.04.2-1.43.59L10.3 9.45l-7.72 7.72c-.78.78-.78 2.05 0 2.83L4 21.41c.39.39.9.59 1.41.59.51 0 1.02-.2 1.41-.59l7.78-7.78 2.81-2.81c.8-.78.8-2.07 0-2.86zM5.41 20L4 18.59l7.72-7.72 1.47 1.35L5.41 20z\"/>\n",
              "  </svg>\n",
              "      </button>\n",
              "      \n",
              "  <style>\n",
              "    .colab-df-container {\n",
              "      display:flex;\n",
              "      flex-wrap:wrap;\n",
              "      gap: 12px;\n",
              "    }\n",
              "\n",
              "    .colab-df-convert {\n",
              "      background-color: #E8F0FE;\n",
              "      border: none;\n",
              "      border-radius: 50%;\n",
              "      cursor: pointer;\n",
              "      display: none;\n",
              "      fill: #1967D2;\n",
              "      height: 32px;\n",
              "      padding: 0 0 0 0;\n",
              "      width: 32px;\n",
              "    }\n",
              "\n",
              "    .colab-df-convert:hover {\n",
              "      background-color: #E2EBFA;\n",
              "      box-shadow: 0px 1px 2px rgba(60, 64, 67, 0.3), 0px 1px 3px 1px rgba(60, 64, 67, 0.15);\n",
              "      fill: #174EA6;\n",
              "    }\n",
              "\n",
              "    [theme=dark] .colab-df-convert {\n",
              "      background-color: #3B4455;\n",
              "      fill: #D2E3FC;\n",
              "    }\n",
              "\n",
              "    [theme=dark] .colab-df-convert:hover {\n",
              "      background-color: #434B5C;\n",
              "      box-shadow: 0px 1px 3px 1px rgba(0, 0, 0, 0.15);\n",
              "      filter: drop-shadow(0px 1px 2px rgba(0, 0, 0, 0.3));\n",
              "      fill: #FFFFFF;\n",
              "    }\n",
              "  </style>\n",
              "\n",
              "      <script>\n",
              "        const buttonEl =\n",
              "          document.querySelector('#df-8d502538-a415-480b-a5c2-7697c26a8c29 button.colab-df-convert');\n",
              "        buttonEl.style.display =\n",
              "          google.colab.kernel.accessAllowed ? 'block' : 'none';\n",
              "\n",
              "        async function convertToInteractive(key) {\n",
              "          const element = document.querySelector('#df-8d502538-a415-480b-a5c2-7697c26a8c29');\n",
              "          const dataTable =\n",
              "            await google.colab.kernel.invokeFunction('convertToInteractive',\n",
              "                                                     [key], {});\n",
              "          if (!dataTable) return;\n",
              "\n",
              "          const docLinkHtml = 'Like what you see? Visit the ' +\n",
              "            '<a target=\"_blank\" href=https://colab.research.google.com/notebooks/data_table.ipynb>data table notebook</a>'\n",
              "            + ' to learn more about interactive tables.';\n",
              "          element.innerHTML = '';\n",
              "          dataTable['output_type'] = 'display_data';\n",
              "          await google.colab.output.renderOutput(dataTable, element);\n",
              "          const docLink = document.createElement('div');\n",
              "          docLink.innerHTML = docLinkHtml;\n",
              "          element.appendChild(docLink);\n",
              "        }\n",
              "      </script>\n",
              "    </div>\n",
              "  </div>\n",
              "  "
            ]
          },
          "metadata": {},
          "execution_count": 51
        }
      ]
    },
    {
      "cell_type": "code",
      "source": [
        "from sklearn.experimental import enable_hist_gradient_boosting\n",
        "from sklearn.ensemble import HistGradientBoostingClassifier\n",
        "HGBC= HistGradientBoostingClassifier(early_stopping=True,\n",
        "                                 l2_regularization=1.3153561911035717e-10,\n",
        "                                 learning_rate=0.025345400213312417, max_iter=512,\n",
        "                                 max_leaf_nodes=16, min_samples_leaf=27,\n",
        "                                 n_iter_no_change=5, random_state=1,\n",
        "                                 validation_fraction=0.2361478213622299,\n",
        "                                 warm_start=True)\n",
        "HGBC.fit(X_train,y_train)\n",
        "y_pred=HGBC.predict(X_test)\n",
        "print(accuracy_score(y_test,y_pred))\n",
        "print(classification_report(y_train, HGBC.predict(X_train)))\n",
        "print(classification_report(y_test, HGBC.predict(X_test)))\n",
        "y_pred = HGBC.predict(test)\n",
        "print(y_pred[:20])\n",
        "sol = pd.DataFrame(y_pred,columns=['slice Type'])\n",
        "print(sol.head(20))"
      ],
      "metadata": {
        "colab": {
          "base_uri": "https://localhost:8080/"
        },
        "id": "oNwd4N1G_45O",
        "outputId": "91614240-0762-4dde-988d-594a863aacda"
      },
      "execution_count": null,
      "outputs": [
        {
          "output_type": "stream",
          "name": "stdout",
          "text": [
            "1.0\n",
            "              precision    recall  f1-score   support\n",
            "\n",
            "           1       1.00      1.00      1.00     13439\n",
            "           2       1.00      1.00      1.00      5913\n",
            "           3       1.00      1.00      1.00      5914\n",
            "\n",
            "    accuracy                           1.00     25266\n",
            "   macro avg       1.00      1.00      1.00     25266\n",
            "weighted avg       1.00      1.00      1.00     25266\n",
            "\n",
            "              precision    recall  f1-score   support\n",
            "\n",
            "           1       1.00      1.00      1.00      3360\n",
            "           2       1.00      1.00      1.00      1479\n",
            "           3       1.00      1.00      1.00      1478\n",
            "\n",
            "    accuracy                           1.00      6317\n",
            "   macro avg       1.00      1.00      1.00      6317\n",
            "weighted avg       1.00      1.00      1.00      6317\n",
            "\n",
            "[1 3 2 2 1 1 2 2 3 1 1 1 2 1 3 3 1 1 1 2]\n",
            "    slice Type\n",
            "0            1\n",
            "1            3\n",
            "2            2\n",
            "3            2\n",
            "4            1\n",
            "5            1\n",
            "6            2\n",
            "7            2\n",
            "8            3\n",
            "9            1\n",
            "10           1\n",
            "11           1\n",
            "12           2\n",
            "13           1\n",
            "14           3\n",
            "15           3\n",
            "16           1\n",
            "17           1\n",
            "18           1\n",
            "19           2\n"
          ]
        }
      ]
    },
    {
      "cell_type": "code",
      "source": [
        "from sklearn.linear_model import SGDClassifier\n",
        "\n",
        "SGDC= SGDClassifier(alpha=1.6992296128865824e-07, average=True, eta0=0.01, loss='log',\n",
        "                max_iter=16, penalty='l1', random_state=1,\n",
        "                tol=1.535384699341134e-05, warm_start=True)\n",
        "SGDC.fit(X_train,y_train)\n",
        "y_pred=SGDC.predict(X_test)\n",
        "print(accuracy_score(y_test,y_pred))\n",
        "print(classification_report(y_train, SGDC.predict(X_train)))\n",
        "print(classification_report(y_test, SGDC.predict(X_test)))\n",
        "y_pred = SGDC.predict(test)\n",
        "print(y_pred[:20])\n",
        "sol = pd.DataFrame(y_pred,columns=['slice Type'])\n",
        "print(sol.head(20))\n"
      ],
      "metadata": {
        "colab": {
          "base_uri": "https://localhost:8080/"
        },
        "id": "vbCTaVAHCbHM",
        "outputId": "ff433c50-f2ba-4294-ad5f-60f39e86aefc"
      },
      "execution_count": null,
      "outputs": [
        {
          "output_type": "stream",
          "name": "stdout",
          "text": [
            "0.9993667880322938\n",
            "              precision    recall  f1-score   support\n",
            "\n",
            "           1       1.00      1.00      1.00     13439\n",
            "           2       1.00      1.00      1.00      5913\n",
            "           3       1.00      1.00      1.00      5914\n",
            "\n",
            "    accuracy                           1.00     25266\n",
            "   macro avg       1.00      1.00      1.00     25266\n",
            "weighted avg       1.00      1.00      1.00     25266\n",
            "\n",
            "              precision    recall  f1-score   support\n",
            "\n",
            "           1       1.00      1.00      1.00      3360\n",
            "           2       1.00      1.00      1.00      1479\n",
            "           3       1.00      1.00      1.00      1478\n",
            "\n",
            "    accuracy                           1.00      6317\n",
            "   macro avg       1.00      1.00      1.00      6317\n",
            "weighted avg       1.00      1.00      1.00      6317\n",
            "\n",
            "[1 3 2 2 1 1 2 2 3 1 1 1 2 1 3 3 1 1 1 2]\n",
            "    slice Type\n",
            "0            1\n",
            "1            3\n",
            "2            2\n",
            "3            2\n",
            "4            1\n",
            "5            1\n",
            "6            2\n",
            "7            2\n",
            "8            3\n",
            "9            1\n",
            "10           1\n",
            "11           1\n",
            "12           2\n",
            "13           1\n",
            "14           3\n",
            "15           3\n",
            "16           1\n",
            "17           1\n",
            "18           1\n",
            "19           2\n"
          ]
        }
      ]
    },
    {
      "cell_type": "code",
      "source": [
        "from sklearn.svm import SVC\n",
        "\n",
        "SVCLF= SVC(C=181.96184687258582, cache_size=1905.6666666666667,\n",
        "      class_weight='balanced', gamma=1.8287341102334311, max_iter=-1.0,\n",
        "      random_state=1, tol=0.013996997317851007)\n",
        "SVCLF.fit(X_train,y_train)\n",
        "y_pred=SVCLF.predict(X_test)\n",
        "print(accuracy_score(y_test,y_pred))\n",
        "print(classification_report(y_train, SVCLF.predict(X_train)))\n",
        "print(classification_report(y_test, SVCLF.predict(X_test)))\n",
        "y_pred = SVCLF.predict(test)\n",
        "print(y_pred[:20])\n",
        "sol = pd.DataFrame(y_pred,columns=['slice Type'])\n",
        "print(sol.head(20))"
      ],
      "metadata": {
        "colab": {
          "base_uri": "https://localhost:8080/"
        },
        "id": "PK991gmeEeEL",
        "outputId": "183667ae-90fe-46e8-e76e-6535ecb03dff"
      },
      "execution_count": null,
      "outputs": [
        {
          "output_type": "stream",
          "name": "stdout",
          "text": [
            "1.0\n",
            "              precision    recall  f1-score   support\n",
            "\n",
            "           1       1.00      1.00      1.00     13439\n",
            "           2       1.00      1.00      1.00      5913\n",
            "           3       1.00      1.00      1.00      5914\n",
            "\n",
            "    accuracy                           1.00     25266\n",
            "   macro avg       1.00      1.00      1.00     25266\n",
            "weighted avg       1.00      1.00      1.00     25266\n",
            "\n",
            "              precision    recall  f1-score   support\n",
            "\n",
            "           1       1.00      1.00      1.00      3360\n",
            "           2       1.00      1.00      1.00      1479\n",
            "           3       1.00      1.00      1.00      1478\n",
            "\n",
            "    accuracy                           1.00      6317\n",
            "   macro avg       1.00      1.00      1.00      6317\n",
            "weighted avg       1.00      1.00      1.00      6317\n",
            "\n",
            "[1 3 2 2 1 1 2 2 3 1 1 1 2 1 3 3 1 1 1 2]\n",
            "    slice Type\n",
            "0            1\n",
            "1            3\n",
            "2            2\n",
            "3            2\n",
            "4            1\n",
            "5            1\n",
            "6            2\n",
            "7            2\n",
            "8            3\n",
            "9            1\n",
            "10           1\n",
            "11           1\n",
            "12           2\n",
            "13           1\n",
            "14           3\n",
            "15           3\n",
            "16           1\n",
            "17           1\n",
            "18           1\n",
            "19           2\n"
          ]
        }
      ]
    },
    {
      "cell_type": "code",
      "source": [
        "from sklearn.ensemble import ExtraTreesClassifier\n",
        "ETC=ExtraTreesClassifier(criterion='entropy', max_features=14, min_samples_leaf=2,\n",
        "                       min_samples_split=6, n_estimators=512, n_jobs=1,\n",
        "                       random_state=1, warm_start=True)\n",
        "ETC.fit(X_train,y_train)\n",
        "y_pred=ETC.predict(X_test)\n",
        "print(accuracy_score(y_test,y_pred))\n",
        "print(classification_report(y_train, ETC.predict(X_train)))\n",
        "print(classification_report(y_test, ETC.predict(X_test)))\n",
        "y_pred = ETC.predict(test)\n",
        "print(y_pred[:20])\n",
        "sol = pd.DataFrame(y_pred,columns=['slice Type'])\n",
        "print(sol.head(20))"
      ],
      "metadata": {
        "colab": {
          "base_uri": "https://localhost:8080/"
        },
        "id": "BNuCcf5gF8w9",
        "outputId": "31e20c6c-f9f2-4bde-9a7c-0484689b2141"
      },
      "execution_count": null,
      "outputs": [
        {
          "output_type": "stream",
          "name": "stdout",
          "text": [
            "1.0\n",
            "              precision    recall  f1-score   support\n",
            "\n",
            "           1       1.00      1.00      1.00     13439\n",
            "           2       1.00      1.00      1.00      5913\n",
            "           3       1.00      1.00      1.00      5914\n",
            "\n",
            "    accuracy                           1.00     25266\n",
            "   macro avg       1.00      1.00      1.00     25266\n",
            "weighted avg       1.00      1.00      1.00     25266\n",
            "\n",
            "              precision    recall  f1-score   support\n",
            "\n",
            "           1       1.00      1.00      1.00      3360\n",
            "           2       1.00      1.00      1.00      1479\n",
            "           3       1.00      1.00      1.00      1478\n",
            "\n",
            "    accuracy                           1.00      6317\n",
            "   macro avg       1.00      1.00      1.00      6317\n",
            "weighted avg       1.00      1.00      1.00      6317\n",
            "\n",
            "[1 3 2 2 1 1 2 2 3 1 1 1 2 1 3 3 1 1 1 2]\n",
            "    slice Type\n",
            "0            1\n",
            "1            3\n",
            "2            2\n",
            "3            2\n",
            "4            1\n",
            "5            1\n",
            "6            2\n",
            "7            2\n",
            "8            3\n",
            "9            1\n",
            "10           1\n",
            "11           1\n",
            "12           2\n",
            "13           1\n",
            "14           3\n",
            "15           3\n",
            "16           1\n",
            "17           1\n",
            "18           1\n",
            "19           2\n"
          ]
        }
      ]
    },
    {
      "cell_type": "code",
      "source": [
        "from sklearn.neural_network import MLPClassifier\n",
        "\n",
        "MLPC= MLPClassifier(activation='tanh', alpha=3.542372581884717e-07, beta_1=0.999,\n",
        "                beta_2=0.9, hidden_layer_sizes=(54, 54),\n",
        "                learning_rate_init=0.00016753718126302934, max_iter=32,\n",
        "                n_iter_no_change=32, random_state=1, validation_fraction=0.0,\n",
        "                verbose=0, warm_start=True)\n",
        "MLPC.fit(X_train,y_train)\n",
        "y_pred=MLPC.predict(X_test)\n",
        "print(accuracy_score(y_test,y_pred))\n",
        "print(classification_report(y_train, MLPC.predict(X_train)))\n",
        "print(classification_report(y_test, MLPC.predict(X_test)))\n",
        "y_pred = MLPC.predict(test)\n",
        "print(y_pred[:20])\n",
        "sol = pd.DataFrame(y_pred,columns=['slice Type'])\n",
        "print(sol.head(20))\n"
      ],
      "metadata": {
        "colab": {
          "base_uri": "https://localhost:8080/"
        },
        "id": "J8i1Xo0LDhVJ",
        "outputId": "5cca7c47-5353-4738-ce22-f8d9cd4a3f6d"
      },
      "execution_count": null,
      "outputs": [
        {
          "output_type": "stream",
          "name": "stdout",
          "text": [
            "0.9892353965489947\n",
            "              precision    recall  f1-score   support\n",
            "\n",
            "           1       1.00      1.00      1.00     13439\n",
            "           2       1.00      0.96      0.98      5913\n",
            "           3       0.96      1.00      0.98      5914\n",
            "\n",
            "    accuracy                           0.99     25266\n",
            "   macro avg       0.99      0.99      0.99     25266\n",
            "weighted avg       0.99      0.99      0.99     25266\n",
            "\n",
            "              precision    recall  f1-score   support\n",
            "\n",
            "           1       1.00      1.00      1.00      3360\n",
            "           2       1.00      0.96      0.98      1479\n",
            "           3       0.96      1.00      0.98      1478\n",
            "\n",
            "    accuracy                           0.99      6317\n",
            "   macro avg       0.99      0.98      0.98      6317\n",
            "weighted avg       0.99      0.99      0.99      6317\n",
            "\n",
            "[1 3 2 2 1 1 3 2 3 1 1 1 2 1 3 3 1 1 1 2]\n",
            "    slice Type\n",
            "0            1\n",
            "1            3\n",
            "2            2\n",
            "3            2\n",
            "4            1\n",
            "5            1\n",
            "6            3\n",
            "7            2\n",
            "8            3\n",
            "9            1\n",
            "10           1\n",
            "11           1\n",
            "12           2\n",
            "13           1\n",
            "14           3\n",
            "15           3\n",
            "16           1\n",
            "17           1\n",
            "18           1\n",
            "19           2\n"
          ]
        },
        {
          "output_type": "stream",
          "name": "stderr",
          "text": [
            "/usr/local/lib/python3.7/dist-packages/sklearn/neural_network/_multilayer_perceptron.py:617: ConvergenceWarning: Stochastic Optimizer: Maximum iterations (32) reached and the optimization hasn't converged yet.\n",
            "  % self.max_iter, ConvergenceWarning)\n"
          ]
        }
      ]
    },
    {
      "cell_type": "code",
      "source": [
        "from sklearn.linear_model import LogisticRegression\n",
        "\n",
        "\n",
        "LRC=  LogisticRegression()\n",
        "LRC.fit(X_train,y_train)\n",
        "y_pred=LRC.predict(X_test)\n",
        "print(accuracy_score(y_test,y_pred))\n",
        "print(classification_report(y_train, LRC.predict(X_train)))\n",
        "print(classification_report(y_test, LRC.predict(X_test)))\n",
        "y_pred = LRC.predict(test)\n",
        "print(y_pred[:20])\n",
        "sol = pd.DataFrame(y_pred,columns=['slice Type'])\n",
        "print(sol.head(20))\n"
      ],
      "metadata": {
        "id": "W2WvmHSgMF4c",
        "outputId": "5db3e0d4-981d-4b61-83f8-b256cf9883e3",
        "colab": {
          "base_uri": "https://localhost:8080/"
        }
      },
      "execution_count": 15,
      "outputs": [
        {
          "output_type": "stream",
          "name": "stderr",
          "text": [
            "/usr/local/lib/python3.7/dist-packages/sklearn/linear_model/_logistic.py:818: ConvergenceWarning: lbfgs failed to converge (status=1):\n",
            "STOP: TOTAL NO. of ITERATIONS REACHED LIMIT.\n",
            "\n",
            "Increase the number of iterations (max_iter) or scale the data as shown in:\n",
            "    https://scikit-learn.org/stable/modules/preprocessing.html\n",
            "Please also refer to the documentation for alternative solver options:\n",
            "    https://scikit-learn.org/stable/modules/linear_model.html#logistic-regression\n",
            "  extra_warning_msg=_LOGISTIC_SOLVER_CONVERGENCE_MSG,\n"
          ]
        },
        {
          "output_type": "stream",
          "name": "stdout",
          "text": [
            "1.0\n",
            "              precision    recall  f1-score   support\n",
            "\n",
            "           1       1.00      1.00      1.00     13439\n",
            "           2       1.00      1.00      1.00      5913\n",
            "           3       1.00      1.00      1.00      5914\n",
            "\n",
            "    accuracy                           1.00     25266\n",
            "   macro avg       1.00      1.00      1.00     25266\n",
            "weighted avg       1.00      1.00      1.00     25266\n",
            "\n",
            "              precision    recall  f1-score   support\n",
            "\n",
            "           1       1.00      1.00      1.00      3360\n",
            "           2       1.00      1.00      1.00      1479\n",
            "           3       1.00      1.00      1.00      1478\n",
            "\n",
            "    accuracy                           1.00      6317\n",
            "   macro avg       1.00      1.00      1.00      6317\n",
            "weighted avg       1.00      1.00      1.00      6317\n",
            "\n",
            "[1 3 2 2 1 1 2 2 3 1 1 1 2 1 3 3 1 1 1 2]\n",
            "    slice Type\n",
            "0            1\n",
            "1            3\n",
            "2            2\n",
            "3            2\n",
            "4            1\n",
            "5            1\n",
            "6            2\n",
            "7            2\n",
            "8            3\n",
            "9            1\n",
            "10           1\n",
            "11           1\n",
            "12           2\n",
            "13           1\n",
            "14           3\n",
            "15           3\n",
            "16           1\n",
            "17           1\n",
            "18           1\n",
            "19           2\n"
          ]
        }
      ]
    }
  ]
}